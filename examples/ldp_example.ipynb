{
 "cells": [
  {
   "cell_type": "markdown",
   "source": [
    "# LDP Algorithm Example\n",
    "\n",
    "Demonstrate the SGD under LDP."
   ],
   "metadata": {
    "collapsed": false,
    "pycharm": {
     "name": "#%% md\n"
    }
   }
  },
  {
   "cell_type": "code",
   "execution_count": 7,
   "metadata": {
    "collapsed": true
   },
   "outputs": [],
   "source": [
    "from sklearn.datasets import make_blobs\n",
    "\n",
    "from dprl.ldp import SGD\n",
    "\n",
    "\n",
    "def main(epsilon_list, times):\n",
    "    # gen data\n",
    "    X, Y = make_blobs(n_samples=2000, centers=2,\n",
    "                      random_state=0, cluster_std=0.4)\n",
    "    acc = 0\n",
    "    # set epsilon\n",
    "    for i in range(times):\n",
    "        sgd = SGD(X[:1000], Y[:1000], X[-1000:], Y[-1000:], 'svm',epsilon_list , 'PM')\n",
    "        acc += sgd.eval()\n",
    "    return acc / times\n"
   ]
  },
  {
   "cell_type": "code",
   "execution_count": 8,
   "outputs": [
    {
     "name": "stdout",
     "output_type": "stream",
     "text": [
      "average acc (high epsilon): \t 0.756000\n",
      "average acc (low epsilon): \t 0.535800\n"
     ]
    }
   ],
   "source": [
    "print('average acc (high epsilon): \\t %f' % (main([2]*1000, 10)))\n",
    "print('average acc (low epsilon): \\t %f' % (main([1e-4]*1000, 10)))"
   ],
   "metadata": {
    "collapsed": false,
    "pycharm": {
     "name": "#%%\n"
    }
   }
  }
 ],
 "metadata": {
  "kernelspec": {
   "display_name": "Python 3",
   "language": "python",
   "name": "python3"
  },
  "language_info": {
   "codemirror_mode": {
    "name": "ipython",
    "version": 2
   },
   "file_extension": ".py",
   "mimetype": "text/x-python",
   "name": "python",
   "nbconvert_exporter": "python",
   "pygments_lexer": "ipython2",
   "version": "2.7.6"
  }
 },
 "nbformat": 4,
 "nbformat_minor": 0
}