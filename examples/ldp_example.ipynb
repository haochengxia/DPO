{
 "cells": [
  {
   "cell_type": "code",
   "execution_count": 18,
   "metadata": {
    "collapsed": true
   },
   "outputs": [
    {
     "name": "stdout",
     "output_type": "stream",
     "text": [
      "average acc is: \t 7.26\n"
     ]
    }
   ],
   "source": [
    "from sklearn.datasets import make_blobs\n",
    "\n",
    "from dprl.ldp import SGD\n",
    "\n",
    "\n",
    "def main():\n",
    "    # gen data\n",
    "    X, Y = make_blobs(n_samples=2000, centers=2,\n",
    "                      random_state=0, cluster_std=0.4)\n",
    "    acc = 0\n",
    "    # set epsilon\n",
    "    epsilon_list = [1]*1000\n",
    "    for i in range(10):\n",
    "        sgd = SGD(X[:1000], Y[:1000], X[-1000:], Y[-1000:], 'svm',epsilon_list , 'PM')\n",
    "        acc += sgd.eval()\n",
    "    print('average acc is: \\t', acc)\n",
    "\n",
    "main()"
   ]
  }
 ],
 "metadata": {
  "kernelspec": {
   "display_name": "Python 3",
   "language": "python",
   "name": "python3"
  },
  "language_info": {
   "codemirror_mode": {
    "name": "ipython",
    "version": 2
   },
   "file_extension": ".py",
   "mimetype": "text/x-python",
   "name": "python",
   "nbconvert_exporter": "python",
   "pygments_lexer": "ipython2",
   "version": "2.7.6"
  }
 },
 "nbformat": 4,
 "nbformat_minor": 0
}